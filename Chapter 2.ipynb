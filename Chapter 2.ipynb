{
 "cells": [
  {
   "cell_type": "markdown",
   "metadata": {},
   "source": [
    "__Pumpkins__"
   ]
  },
  {
   "cell_type": "code",
   "execution_count": 1,
   "metadata": {
    "collapsed": true
   },
   "outputs": [],
   "source": [
    "from thinkstats import MeanVar\n",
    "import matplotlib.pyplot as plt\n",
    "import myplot\n",
    "import math\n",
    "%matplotlib inline"
   ]
  },
  {
   "cell_type": "code",
   "execution_count": 2,
   "metadata": {
    "collapsed": false
   },
   "outputs": [
    {
     "name": "stdout",
     "output_type": "stream",
     "text": [
      "Mean 100.0\n",
      "Variance 48217.0\n",
      "Standard Deviation 219.583697027\n"
     ]
    }
   ],
   "source": [
    "pumpkins = [1, 1, 1, 3, 3, 591]\n",
    "mu, var = MeanVar(pumpkins)\n",
    "std = math.sqrt(var)\n",
    "\n",
    "print \"Mean\", mu\n",
    "print \"Variance\", var\n",
    "print \"Standard Deviation\", std"
   ]
  },
  {
   "cell_type": "markdown",
   "metadata": {},
   "source": [
    "__Gestation Time__"
   ]
  },
  {
   "cell_type": "code",
   "execution_count": 3,
   "metadata": {
    "collapsed": true
   },
   "outputs": [],
   "source": [
    "import survey\n",
    "table = survey.Pregnancies()\n",
    "table.ReadRecords()"
   ]
  },
  {
   "cell_type": "code",
   "execution_count": 4,
   "metadata": {
    "collapsed": false
   },
   "outputs": [],
   "source": [
    "def is_live_birth(record):\n",
    "    return record.outcome == 1\n",
    "\n",
    "live_births = [r for r in table.records if is_live_birth(r)]\n",
    "first_babies = []\n",
    "other_babies = []\n",
    "\n",
    "for rec in live_births:\n",
    "    if rec.birthord == 1:\n",
    "        first_babies.append(rec)\n",
    "    else:\n",
    "        other_babies.append(rec)        "
   ]
  },
  {
   "cell_type": "code",
   "execution_count": 5,
   "metadata": {
    "collapsed": false
   },
   "outputs": [
    {
     "name": "stdout",
     "output_type": "stream",
     "text": [
      "std first 2.79158506982\n",
      "std other 2.61557611068\n",
      "diff 0.17600895914\n"
     ]
    }
   ],
   "source": [
    "mu_first, var_first = MeanVar([r.prglength for r in first_babies])\n",
    "mu_other, var_other = MeanVar([r.prglength for r in other_babies])\n",
    "\n",
    "std_first = math.sqrt(var_first)\n",
    "std_other = math.sqrt(var_other)\n",
    "\n",
    "print \"std first\", std_first\n",
    "print \"std other\", std_other\n",
    "print \"diff\", std_first - std_other"
   ]
  },
  {
   "cell_type": "code",
   "execution_count": 6,
   "metadata": {
    "collapsed": false
   },
   "outputs": [
    {
     "name": "stdout",
     "output_type": "stream",
     "text": [
      "mean first 38.6009517335\n",
      "mean other 38.5229144667\n",
      "diff 0.0780372667775\n"
     ]
    }
   ],
   "source": [
    "print \"mean first\", mu_first\n",
    "print \"mean other\", mu_other\n",
    "print \"diff\", mu_first - mu_other"
   ]
  },
  {
   "cell_type": "markdown",
   "metadata": {},
   "source": [
    "The difference in the means is less than the standard deviation, it might be statistically insignificant"
   ]
  },
  {
   "cell_type": "markdown",
   "metadata": {},
   "source": [
    "__The Mode__"
   ]
  },
  {
   "cell_type": "code",
   "execution_count": 7,
   "metadata": {
    "collapsed": true
   },
   "outputs": [],
   "source": [
    "import Pmf"
   ]
  },
  {
   "cell_type": "code",
   "execution_count": 8,
   "metadata": {
    "collapsed": false
   },
   "outputs": [],
   "source": [
    "hist = Pmf.MakeHistFromList([1, 1, 1, 1, 2, 2, 2, 3, 3, 4])"
   ]
  },
  {
   "cell_type": "code",
   "execution_count": 9,
   "metadata": {
    "collapsed": true
   },
   "outputs": [],
   "source": [
    "def mode(hist):\n",
    "    return max(hist.Items(), key=lambda (x, f): f)[0]"
   ]
  },
  {
   "cell_type": "code",
   "execution_count": 10,
   "metadata": {
    "collapsed": false
   },
   "outputs": [
    {
     "data": {
      "text/plain": [
       "1"
      ]
     },
     "execution_count": 10,
     "metadata": {},
     "output_type": "execute_result"
    }
   ],
   "source": [
    "mode(hist)"
   ]
  },
  {
   "cell_type": "code",
   "execution_count": 11,
   "metadata": {
    "collapsed": false
   },
   "outputs": [],
   "source": [
    "def all_modes(hist):\n",
    "    return sorted(hist.Items(), key=lambda (x, f): f, reverse=True)"
   ]
  },
  {
   "cell_type": "code",
   "execution_count": 12,
   "metadata": {
    "collapsed": false
   },
   "outputs": [
    {
     "data": {
      "text/plain": [
       "[(1, 4), (2, 3), (3, 2), (4, 1)]"
      ]
     },
     "execution_count": 12,
     "metadata": {},
     "output_type": "execute_result"
    }
   ],
   "source": [
    "all_modes(hist)"
   ]
  },
  {
   "cell_type": "markdown",
   "metadata": {},
   "source": [
    "__Remaining Lifetime__"
   ]
  },
  {
   "cell_type": "code",
   "execution_count": 13,
   "metadata": {
    "collapsed": true
   },
   "outputs": [],
   "source": [
    "pmf = Pmf.MakePmfFromDict({1: 0.3, 2: 0.3, 3: 0.3, 4: 0.1})"
   ]
  },
  {
   "cell_type": "code",
   "execution_count": 14,
   "metadata": {
    "collapsed": false
   },
   "outputs": [],
   "source": [
    "def remaining_lifetime(pmf, age):\n",
    "    return Pmf.MakePmfFromDict({x: p for (x, p) in pmf.Items() if age <= x})"
   ]
  },
  {
   "cell_type": "code",
   "execution_count": 15,
   "metadata": {
    "collapsed": false
   },
   "outputs": [
    {
     "data": {
      "text/plain": [
       "[(2, 0.4285714285714285), (3, 0.4285714285714285), (4, 0.14285714285714288)]"
      ]
     },
     "execution_count": 15,
     "metadata": {},
     "output_type": "execute_result"
    }
   ],
   "source": [
    "remaining_lifetime(pmf, 2).Items()"
   ]
  },
  {
   "cell_type": "markdown",
   "metadata": {},
   "source": [
    "__Pmf Stats__"
   ]
  },
  {
   "cell_type": "code",
   "execution_count": 16,
   "metadata": {
    "collapsed": false
   },
   "outputs": [],
   "source": [
    "def pmf_mean(pmf):\n",
    "    return sum([x*p for (x, p) in pmf.Items()])\n",
    "\n",
    "def pmf_var(pmf, mu=None):\n",
    "    mu = mu or pmf_mean(pmf)\n",
    "    return sum([math.pow(x-mu, 2)*p for (x, p) in pmf.Items()])"
   ]
  },
  {
   "cell_type": "code",
   "execution_count": 17,
   "metadata": {
    "collapsed": false
   },
   "outputs": [
    {
     "name": "stdout",
     "output_type": "stream",
     "text": [
      "Mean 2.2\n",
      "Variance 0.96\n",
      "My Mean 2.2\n",
      "My Variance 0.96\n"
     ]
    }
   ],
   "source": [
    "print \"Mean\", pmf.Mean()\n",
    "print \"Variance\", pmf.Var()\n",
    "\n",
    "print \"My Mean\", pmf_mean(pmf)\n",
    "print \"My Variance\", pmf_var(pmf)"
   ]
  },
  {
   "cell_type": "markdown",
   "metadata": {},
   "source": [
    "__Risk__"
   ]
  },
  {
   "cell_type": "code",
   "execution_count": 18,
   "metadata": {
    "collapsed": true
   },
   "outputs": [],
   "source": [
    "def prob_range(pmf, lb=None, ub=None):\n",
    "    return sum([p for (x, p) in pmf.Items() if (not lb or lb <= x) and (not ub or x < ub)])\n",
    "\n",
    "def prob_early(pmf):\n",
    "    return prob_range(pmf, ub=38)\n",
    "\n",
    "def prob_on_time(pmf):\n",
    "    return prob_range(pmf, lb=38, ub=41)\n",
    "\n",
    "def prob_late(pmf):\n",
    "    return prob_range(pmf, lb=41)"
   ]
  },
  {
   "cell_type": "code",
   "execution_count": 19,
   "metadata": {
    "collapsed": true
   },
   "outputs": [],
   "source": [
    "first_pmf = Pmf.MakePmfFromList([r.prglength for r in first_babies])\n",
    "other_pmf = Pmf.MakePmfFromList([r.prglength for r in other_babies])"
   ]
  },
  {
   "cell_type": "code",
   "execution_count": 20,
   "metadata": {
    "collapsed": false
   },
   "outputs": [
    {
     "name": "stdout",
     "output_type": "stream",
     "text": [
      "first babies\n",
      "early 0.182415590301\n",
      "on time 0.662134602311\n",
      "late 0.155449807387\n",
      "\n",
      "other babies\n",
      "early 0.168321013728\n",
      "on time 0.737909186906\n",
      "late 0.0937697993664\n"
     ]
    }
   ],
   "source": [
    "print \"first babies\"\n",
    "print \"early\", prob_early(first_pmf)\n",
    "print \"on time\", prob_on_time(first_pmf)\n",
    "print \"late\", prob_late(first_pmf)\n",
    "print\n",
    "print \"other babies\"\n",
    "print \"early\", prob_early(other_pmf)\n",
    "print \"on time\", prob_on_time(other_pmf)\n",
    "print \"late\", prob_late(other_pmf)"
   ]
  },
  {
   "cell_type": "markdown",
   "metadata": {},
   "source": [
    "__Relative Risk__"
   ]
  },
  {
   "cell_type": "code",
   "execution_count": 21,
   "metadata": {
    "collapsed": true
   },
   "outputs": [],
   "source": [
    "def relative_risk(p1, p2):\n",
    "    return p1/p2"
   ]
  },
  {
   "cell_type": "code",
   "execution_count": 22,
   "metadata": {
    "collapsed": false
   },
   "outputs": [
    {
     "name": "stdout",
     "output_type": "stream",
     "text": [
      "relative risk for first babies\n",
      "early 1.08373628617\n",
      "on time 0.897311775027\n",
      "late 1.65778116662\n"
     ]
    }
   ],
   "source": [
    "print \"relative risk for first babies\"\n",
    "print \"early\", relative_risk(prob_early(first_pmf), prob_early(other_pmf))\n",
    "print \"on time\", relative_risk(prob_on_time(first_pmf), prob_on_time(other_pmf))\n",
    "print \"late\", relative_risk(prob_late(first_pmf), prob_late(other_pmf))"
   ]
  },
  {
   "cell_type": "markdown",
   "metadata": {},
   "source": [
    "__Conditional Babies__"
   ]
  },
  {
   "cell_type": "code",
   "execution_count": 23,
   "metadata": {
    "collapsed": false
   },
   "outputs": [],
   "source": [
    "def born_this_week(pmf, week):\n",
    "\n",
    "    if not pmf.Prob(week):\n",
    "        return 0\n",
    "    \n",
    "    new_pmf = Pmf.MakePmfFromDict({w: p for (w, p) in pmf.Items() if week <= w})\n",
    "    return new_pmf.Prob(week)"
   ]
  },
  {
   "cell_type": "code",
   "execution_count": 24,
   "metadata": {
    "collapsed": false
   },
   "outputs": [
    {
     "data": {
      "text/plain": [
       "0.6763222366335209"
      ]
     },
     "execution_count": 24,
     "metadata": {},
     "output_type": "execute_result"
    }
   ],
   "source": [
    "live_pmf = Pmf.MakePmfFromList([r.prglength for r in live_births])\n",
    "born_this_week(live_pmf, 39)"
   ]
  },
  {
   "cell_type": "code",
   "execution_count": 25,
   "metadata": {
    "collapsed": false
   },
   "outputs": [],
   "source": [
    "weeks = range(20, 52, 1)\n",
    "first_probs = [born_this_week(first_pmf, w) for w in weeks]\n",
    "other_probs = [born_this_week(other_pmf, w) for w in weeks]"
   ]
  },
  {
   "cell_type": "code",
   "execution_count": 26,
   "metadata": {
    "collapsed": false
   },
   "outputs": [
    {
     "data": {
      "image/png": "[encoded data removed]",
      "text/plain": [
       "<matplotlib.figure.Figure at 0x7ff4185a0c10>"
      ]
     },
     "metadata": {},
     "output_type": "display_data"
    }
   ],
   "source": [
    "f, ax = plt.subplots()\n",
    "ax.set_xlabel(\"Week\")\n",
    "ax.set_ylabel(\"P(Born This Week | Week)\")\n",
    "ax.set_title(\"Born This Week\")\n",
    "first_line = ax.plot(weeks, first_probs, label=\"First Babies\")\n",
    "other_line = ax.plot(weeks, other_probs, label=\"Other Babies\")\n",
    "handles, labels = ax.get_legend_handles_labels()\n",
    "ax.legend(handles, labels, loc=\"upper left\");"
   ]
  },
  {
   "cell_type": "markdown",
   "metadata": {},
   "source": [
    "__Conclusion__"
   ]
  },
  {
   "cell_type": "markdown",
   "metadata": {},
   "source": [
    "It does seem that first babies are born later than other babies, but the difference isn't very significant"
   ]
  }
 ],
 "metadata": {
  "kernelspec": {
   "display_name": "Python 2.7 (no Spark)",
   "language": "python2",
   "name": "python27"
  },
  "language_info": {
   "codemirror_mode": {
    "name": "ipython",
    "version": 2
   },
   "file_extension": ".py",
   "mimetype": "text/x-python",
   "name": "python",
   "nbconvert_exporter": "python",
   "pygments_lexer": "ipython2",
   "version": "2.7.10"
  }
 },
 "nbformat": 4,
 "nbformat_minor": 0
}
