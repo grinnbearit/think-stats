{
 "cells": [
  {
   "cell_type": "code",
   "execution_count": 1,
   "metadata": {
    "collapsed": false
   },
   "outputs": [
    {
     "name": "stdout",
     "output_type": "stream",
     "text": [
      "Number of pregnancies 13593\n"
     ]
    }
   ],
   "source": [
    "import survey\n",
    "table = survey.Pregnancies()\n",
    "table.ReadRecords()\n",
    "print \"Number of pregnancies\", len(table.records)"
   ]
  },
  {
   "cell_type": "code",
   "execution_count": 2,
   "metadata": {
    "collapsed": false
   },
   "outputs": [],
   "source": [
    "def is_live_birth(record):\n",
    "    return record.outcome == 1"
   ]
  },
  {
   "cell_type": "markdown",
   "metadata": {},
   "source": [
    "__Number of Live Births__"
   ]
  },
  {
   "cell_type": "code",
   "execution_count": 3,
   "metadata": {
    "collapsed": false
   },
   "outputs": [
    {
     "name": "stdout",
     "output_type": "stream",
     "text": [
      "Number of Live Births 9148\n"
     ]
    }
   ],
   "source": [
    "live_births = [r for r in table.records if is_live_birth(r)]\n",
    "print \"Number of Live Births\", len(live_births)"
   ]
  },
  {
   "cell_type": "markdown",
   "metadata": {},
   "source": [
    "__First Babies vs Others__"
   ]
  },
  {
   "cell_type": "code",
   "execution_count": 4,
   "metadata": {
    "collapsed": false
   },
   "outputs": [
    {
     "name": "stdout",
     "output_type": "stream",
     "text": [
      "Number of First Babies 4413\n",
      "Number of Other Babies 4735\n"
     ]
    }
   ],
   "source": [
    "first_babies = []\n",
    "other_babies = []\n",
    "\n",
    "for rec in live_births:\n",
    "    if rec.birthord == 1:\n",
    "        first_babies.append(rec)\n",
    "    else:\n",
    "        other_babies.append(rec)\n",
    "\n",
    "print \"Number of First Babies\", len(first_babies)\n",
    "print \"Number of Other Babies\", len(other_babies)"
   ]
  },
  {
   "cell_type": "markdown",
   "metadata": {},
   "source": [
    "__Average Prglength__"
   ]
  },
  {
   "cell_type": "code",
   "execution_count": 5,
   "metadata": {
    "collapsed": true
   },
   "outputs": [],
   "source": [
    "def average_prglength(babies):\n",
    "    total = sum([r.prglength for r in babies])\n",
    "    return float(total)/len(babies)"
   ]
  },
  {
   "cell_type": "code",
   "execution_count": 6,
   "metadata": {
    "collapsed": false
   },
   "outputs": [
    {
     "name": "stdout",
     "output_type": "stream",
     "text": [
      "Avg Prglength for First Babies 38.6009517335\n",
      "Avg Prglength for Other Babies 38.5229144667\n"
     ]
    }
   ],
   "source": [
    "print \"Avg Prglength for First Babies\", average_prglength(first_babies)\n",
    "print \"Avg Prglength for Other Babies\", average_prglength(other_babies)"
   ]
  },
  {
   "cell_type": "code",
   "execution_count": 7,
   "metadata": {
    "collapsed": false
   },
   "outputs": [
    {
     "name": "stdout",
     "output_type": "stream",
     "text": [
      "13.1102608224 hours\n"
     ]
    }
   ],
   "source": [
    "print (38.6009517335 - 38.5229144667) * 7 * 24, \"hours\""
   ]
  }
 ],
 "metadata": {
  "kernelspec": {
   "display_name": "Python 2.7 (no Spark)",
   "language": "python2",
   "name": "python27"
  },
  "language_info": {
   "codemirror_mode": {
    "name": "ipython",
    "version": 2
   },
   "file_extension": ".py",
   "mimetype": "text/x-python",
   "name": "python",
   "nbconvert_exporter": "python",
   "pygments_lexer": "ipython2",
   "version": "2.7.10"
  }
 },
 "nbformat": 4,
 "nbformat_minor": 0
}
