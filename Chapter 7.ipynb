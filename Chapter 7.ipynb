{
 "cells": [
  {
   "cell_type": "markdown",
   "metadata": {},
   "source": [
    "# Hypothesis Testing"
   ]
  },
  {
   "cell_type": "markdown",
   "metadata": {},
   "source": [
    "## 2 Ounce P-Value"
   ]
  },
  {
   "cell_type": "code",
   "execution_count": 1,
   "metadata": {
    "collapsed": true
   },
   "outputs": [],
   "source": [
    "import survey\n",
    "table = survey.Pregnancies()\n",
    "table.ReadRecords()"
   ]
  },
  {
   "cell_type": "code",
   "execution_count": 3,
   "metadata": {
    "collapsed": false
   },
   "outputs": [],
   "source": [
    "import Cdf\n",
    "import myplot\n",
    "%matplotlib inline"
   ]
  },
  {
   "cell_type": "code",
   "execution_count": 4,
   "metadata": {
    "collapsed": false
   },
   "outputs": [],
   "source": [
    "def is_live_birth(record):\n",
    "    return record.outcome == 1\n",
    "\n",
    "live_births = [r for r in table.records if is_live_birth(r)]\n",
    "first_weights = []\n",
    "other_weights = []\n",
    "\n",
    "for rec in live_births:\n",
    "    weight = rec.totalwgt_oz\n",
    "    if weight == \"NA\":\n",
    "        continue\n",
    "    if rec.birthord == 1:\n",
    "        first_weights.append(weight)\n",
    "    else:\n",
    "        other_weights.append(weight)"
   ]
  },
  {
   "cell_type": "code",
   "execution_count": 5,
   "metadata": {
    "collapsed": false
   },
   "outputs": [],
   "source": [
    "import numpy as np\n",
    "\n",
    "def differences(xs, ys, samples=10000):\n",
    "    \"\"\"\n",
    "    returns a list of the difference in the means in\n",
    "    x and y using a permutation test\n",
    "    \"\"\"\n",
    "    xarr = np.array(xs)\n",
    "    yarr = np.array(ys)\n",
    "    arr = np.concatenate([xarr, yarr])\n",
    "    split_at = len(xarr)\n",
    "    \n",
    "    acc = []\n",
    "    for _ in xrange(samples):\n",
    "        (subxs, subys) = np.split(np.random.permutation(arr), [split_at])\n",
    "        acc.append(abs(subxs.mean() - subys.mean()))\n",
    "    return acc"
   ]
  },
  {
   "cell_type": "code",
   "execution_count": 6,
   "metadata": {
    "collapsed": false
   },
   "outputs": [],
   "source": [
    "cdf = Cdf.MakeCdfFromList(differences(first_weights, other_weights))"
   ]
  },
  {
   "cell_type": "code",
   "execution_count": 7,
   "metadata": {
    "collapsed": false
   },
   "outputs": [
    {
     "data": {
      "text/plain": [
       "{'xscale': 'linear', 'yscale': 'linear'}"
      ]
     },
     "execution_count": 7,
     "metadata": {},
     "output_type": "execute_result"
    },
    {
     "data": {
      "image/png": "[encoded data removed]",
      "text/plain": [
       "<matplotlib.figure.Figure at 0x7f4fd531a150>"
      ]
     },
     "metadata": {},
     "output_type": "display_data"
    }
   ],
   "source": [
    "myplot.cdf(cdf)"
   ]
  },
  {
   "cell_type": "code",
   "execution_count": 8,
   "metadata": {
    "collapsed": false
   },
   "outputs": [
    {
     "data": {
      "text/plain": [
       "1.0"
      ]
     },
     "execution_count": 8,
     "metadata": {},
     "output_type": "execute_result"
    }
   ],
   "source": [
    "cdf.Prob(2)"
   ]
  }
 ],
 "metadata": {
  "kernelspec": {
   "display_name": "Python 2.7 (no Spark)",
   "language": "python2",
   "name": "python27"
  },
  "language_info": {
   "codemirror_mode": {
    "name": "ipython",
    "version": 2
   },
   "file_extension": ".py",
   "mimetype": "text/x-python",
   "name": "python",
   "nbconvert_exporter": "python",
   "pygments_lexer": "ipython2",
   "version": "2.7.10"
  }
 },
 "nbformat": 4,
 "nbformat_minor": 0
}
